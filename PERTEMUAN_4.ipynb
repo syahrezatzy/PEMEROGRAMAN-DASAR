{
  "nbformat": 4,
  "nbformat_minor": 0,
  "metadata": {
    "colab": {
      "provenance": [],
      "authorship_tag": "ABX9TyM5HGmMaAqqr6tDxwnFcdg5",
      "include_colab_link": true
    },
    "kernelspec": {
      "name": "python3",
      "display_name": "Python 3"
    },
    "language_info": {
      "name": "python"
    }
  },
  "cells": [
    {
      "cell_type": "markdown",
      "metadata": {
        "id": "view-in-github",
        "colab_type": "text"
      },
      "source": [
        "<a href=\"https://colab.research.google.com/github/syahrezatzy/PEMEROGRAMAN-DASAR/blob/main/PERTEMUAN_4.ipynb\" target=\"_parent\"><img src=\"https://colab.research.google.com/assets/colab-badge.svg\" alt=\"Open In Colab\"/></a>"
      ]
    },
    {
      "cell_type": "code",
      "execution_count": null,
      "metadata": {
        "id": "YW8tgkDThaUI",
        "colab": {
          "base_uri": "https://localhost:8080/"
        },
        "outputId": "10497f7b-dbcc-4815-d576-6d145ff4ce04"
      },
      "outputs": [
        {
          "output_type": "stream",
          "name": "stdout",
          "text": [
            "pengunjung adalah orang dewasa\n"
          ]
        }
      ],
      "source": [
        "#variabel untuk menyimpan umur pengunjung\n",
        "umur : int = 19\n",
        "\n",
        "#program hanya akan mencetak pesan jika umur diatas 17\n",
        "if umur > 17 :\n",
        "    print(\"pengunjung adalah orang dewasa\")"
      ]
    },
    {
      "cell_type": "code",
      "source": [
        "username = input(\"masukkan username\")\n",
        "password = input(\"masukkan password\")\n",
        "\n",
        "if username == \"syahrezatzy\" and password == \"123tzy\" :\n",
        "    print(\"login berhasil\")\n",
        "else :\n",
        "    print(\"login gagal\")"
      ],
      "metadata": {
        "colab": {
          "base_uri": "https://localhost:8080/"
        },
        "id": "sJI14yETiniL",
        "outputId": "078880bd-3a2c-4d90-8ac9-f7fd12194b11"
      },
      "execution_count": null,
      "outputs": [
        {
          "output_type": "stream",
          "name": "stdout",
          "text": [
            "masukkan usernamesyahrezatzy\n",
            "masukkan password123tzy\n",
            "login berhasil\n"
          ]
        }
      ]
    },
    {
      "cell_type": "code",
      "source": [
        "#program untuk mengecek bonus dan diskon\n",
        "total_belanja = input(\" total belanja : Rp \")\n",
        "#jumlah yang harus dibayar adalah berapa total belanjaannya\n",
        "#kalau dapat diskon akan berkurang\n",
        "bayar = int(total_belanja)\n",
        "#jika dia belanja diatas 100rb maka berikan bonus dan diskon\n",
        "if int(total_belanja)>100000:\n",
        "    print(\"selamat karena belanja > Rp. 100.000 anda mendapat Voucher Makan \")\n",
        "    print(\"dan discount 5%\")\n",
        "\n",
        "    #hitung discountnya\n",
        "    diskon = int(total_belanja)* 5/100 #5%\n",
        "    bayar = int(total_belanja)- diskon\n",
        "\n",
        "    #cetak struk\n",
        "    print(\"total yang harus dibayar : Rp %s\"% bayar)\n",
        "    print(\"terimakasih sudah belanja sama kami\")\n",
        "    print(\"jumpa kembali\")"
      ],
      "metadata": {
        "colab": {
          "base_uri": "https://localhost:8080/"
        },
        "id": "EAG5UpXrjNA9",
        "outputId": "c5568276-0544-451f-fbbb-5ffd98500c65"
      },
      "execution_count": null,
      "outputs": [
        {
          "output_type": "stream",
          "name": "stdout",
          "text": [
            " total belanja : Rp 150000\n",
            "selamat karena belanja > Rp. 100.000 anda mendapat Voucher Makan \n",
            "dan discount 5%\n",
            "total yang harus dibayar : Rp 142500.0\n",
            "terimakasih sudah belanja sama kami\n",
            "jumpa kembali\n"
          ]
        }
      ]
    },
    {
      "cell_type": "code",
      "source": [
        "#variabel untuk memeriksa apakah ada notifikasi baru\n",
        "ada_notifikasi_baru: bool = True\n",
        "\n",
        "if ada_notifikasi_baru:\n",
        "  print(\"ada notifikasi baru\")\n",
        "else:\n",
        "  print(\"tidak ada notifikasi baru\")"
      ],
      "metadata": {
        "colab": {
          "base_uri": "https://localhost:8080/"
        },
        "id": "1SB44yBomja6",
        "outputId": "3fed545f-1aba-463d-a62d-41046a8e36c2"
      },
      "execution_count": null,
      "outputs": [
        {
          "output_type": "stream",
          "name": "stdout",
          "text": [
            "ada notifikasi baru\n"
          ]
        }
      ]
    },
    {
      "cell_type": "code",
      "source": [
        "umur = input(\"berapa umur kamu: \")\n",
        "if int(umur)>= 18:\n",
        "    print(\"kamu boleh membuat SIM\")\n",
        "else:\n",
        "  print(\"kamu belum boleh membuat SIM\")"
      ],
      "metadata": {
        "colab": {
          "base_uri": "https://localhost:8080/"
        },
        "id": "GKzbDTbpnGTh",
        "outputId": "b228d013-acba-4a45-a4b5-371f01e19684"
      },
      "execution_count": 45,
      "outputs": [
        {
          "output_type": "stream",
          "name": "stdout",
          "text": [
            "berapa umur kamu: 15\n",
            "kamu belum boleh membuat SIM\n"
          ]
        }
      ]
    },
    {
      "cell_type": "code",
      "source": [
        "total_belanja = 28000\n",
        "\n",
        "if total_belanja > 20000:\n",
        "    diskon = total_belanja * 0.10\n",
        "    total_bayar = total_belanja - diskon\n",
        "    print(f\"Anda mendapat diskon! Total bayar: Rp {total_bayar}\")\n",
        "else:\n",
        "    print(f\"Total bayar: Rp {total_belanja}\")"
      ],
      "metadata": {
        "colab": {
          "base_uri": "https://localhost:8080/"
        },
        "id": "M5H-h1NSI-Gv",
        "outputId": "ed822ca8-f917-4447-eb10-6cfaa4e2cc01"
      },
      "execution_count": 37,
      "outputs": [
        {
          "output_type": "stream",
          "name": "stdout",
          "text": [
            "Anda mendapat diskon! Total bayar: Rp 25200.0\n"
          ]
        }
      ]
    },
    {
      "cell_type": "code",
      "source": [
        "angka = int(input(\"masukkan bilangan\"))\n",
        "\n",
        "if angka % 2 == 0:\n",
        "    print(\"angka genap\")\n",
        "else:\n",
        "    print(\"angka ganjil\")"
      ],
      "metadata": {
        "colab": {
          "base_uri": "https://localhost:8080/"
        },
        "id": "2t1I53A4JxwP",
        "outputId": "fefe2e34-2cdd-4e28-b704-fa067d4a7e2b"
      },
      "execution_count": 44,
      "outputs": [
        {
          "output_type": "stream",
          "name": "stdout",
          "text": [
            "masukkan bilangan12323349\n",
            "angka ganjil\n"
          ]
        }
      ]
    },
    {
      "cell_type": "code",
      "source": [
        "nilai = 99\n",
        "if nilai >= 85:\n",
        "    print(\"luar biasa! nilai A \")\n",
        "elif nilai >= 70:\n",
        "    print(\"bagus! nilai B\")\n",
        "elif nilai >= 60:\n",
        "    print(\"cukup nilai C\")\n",
        "else:\n",
        "    print(\"nilai kurang,perlu belajar lebih giat\")"
      ],
      "metadata": {
        "colab": {
          "base_uri": "https://localhost:8080/"
        },
        "id": "EOZjW3BWKjD0",
        "outputId": "d2e8793a-1bcc-4637-9562-8200ee3b199e"
      },
      "execution_count": 48,
      "outputs": [
        {
          "output_type": "stream",
          "name": "stdout",
          "text": [
            "luar biasa! nilai A \n"
          ]
        }
      ]
    },
    {
      "cell_type": "code",
      "source": [
        "# menentukan jenis diskon berdasarkan hari\n",
        "hari: str = \"rabu\"\n",
        "\n",
        "if hari ==\"sabtu\" or hari == \"minggu\" :\n",
        "   diskon: float = 0.20 # diskon 20%\n",
        "   print(f\"selamat! Anda dapat diskon akhir pekan sebesar {diskon*100}% \")\n",
        "elif hari == \"jumat\" :\n",
        "  diskon: float = 0.15 #\n",
        "  print(f\"Diskon spesial jumat! anda mendapat potongan {diskon*100}% \")\n",
        "else:\n",
        "    diskon: float = 0.05 # diskon 5%\n",
        "    print(f\"Anda mendapat diskon hari biasa sebesar {diskon*100}% \")"
      ],
      "metadata": {
        "colab": {
          "base_uri": "https://localhost:8080/"
        },
        "id": "t-Y_aCJwLn57",
        "outputId": "b6dd27d8-9202-47f4-e0b1-d56d44755108"
      },
      "execution_count": 54,
      "outputs": [
        {
          "output_type": "stream",
          "name": "stdout",
          "text": [
            "Anda mendapat diskon hari biasa sebesar 5.0% \n"
          ]
        }
      ]
    },
    {
      "cell_type": "code",
      "source": [
        "rupiah = int(input(\"masukkan jumlah uang (Rp): \"))\n",
        "print(\"1. Dollar (USD)\")\n",
        "print(\"2. Euro (EUR)\")\n",
        "print(\"3. Yen (JPY)\")\n",
        "pilih = int(input(\"pilih konversi (1/2/3): \"))\n",
        "\n",
        "if pilih ==1:\n",
        "     print(\"1. dalam Dollar:\", rupiah / 15000)\n",
        "\n",
        "elif pilih == 2:\n",
        "     print(\"2. dalam Euro:\", rupiah / 16000)\n",
        "\n",
        "elif pilih == 3:\n",
        "    print(\"dalam Yen: \", rupiah / 120)\n",
        "else:\n",
        "    print(\"pilihan tidak valid\")\n"
      ],
      "metadata": {
        "colab": {
          "base_uri": "https://localhost:8080/"
        },
        "id": "Jz_Awd3gO69t",
        "outputId": "8b93ff17-bb34-4f7f-c98c-990b98d58f96"
      },
      "execution_count": 58,
      "outputs": [
        {
          "output_type": "stream",
          "name": "stdout",
          "text": [
            "masukkan jumlah uang (Rp): 9099090000\n",
            "1. Dollar (USD)\n",
            "2. Euro (EUR)\n",
            "3. Yen (JPY)\n",
            "pilih konversi (1/2/3): 5\n",
            "pilihan tidak valid\n"
          ]
        }
      ]
    },
    {
      "cell_type": "code",
      "source": [
        "# LATIHAN 1\n",
        "angka = int(input(\"Masukkan angka: \"))\n",
        "if angka % 5 == 0:\n",
        "    print(\"Kelipatan 5\")\n",
        "else:\n",
        "    print(\"Bukan kelipatan 5\")\n"
      ],
      "metadata": {
        "colab": {
          "base_uri": "https://localhost:8080/"
        },
        "id": "12VE6NCZSLt3",
        "outputId": "8a13863a-f422-4b3f-998f-4f2c15cb0746"
      },
      "execution_count": 62,
      "outputs": [
        {
          "output_type": "stream",
          "name": "stdout",
          "text": [
            "Masukkan angka: 87\n",
            "Bukan kelipatan 5\n"
          ]
        }
      ]
    },
    {
      "cell_type": "code",
      "source": [
        "# LATIHAN 2\n",
        "tahun = int(input(\"Masukkan tahun: \"))\n",
        "\n",
        "if tahun % 400 == 0:\n",
        "    print(\"Tahun Kabisat\")\n",
        "elif tahun % 100 == 0:\n",
        "    print(\"Bukan Tahun Kabisat\")\n",
        "elif tahun % 4 == 0:\n",
        "    print(\"Tahun Kabisat\")\n",
        "else:\n",
        "    print(\"Bukan Tahun Kabisat\")"
      ],
      "metadata": {
        "colab": {
          "base_uri": "https://localhost:8080/"
        },
        "id": "Auv3CzRLS2EZ",
        "outputId": "b3ae2db2-8063-41a6-8a6b-4a1f2cf8abcc"
      },
      "execution_count": 65,
      "outputs": [
        {
          "output_type": "stream",
          "name": "stdout",
          "text": [
            "Masukkan tahun: 2094\n",
            "Bukan Tahun Kabisat\n"
          ]
        }
      ]
    },
    {
      "cell_type": "code",
      "source": [
        "# LATIHAN 3\n",
        "RE = 19\n",
        "ZA = 9\n",
        "RP = 45\n",
        "PE = 23\n",
        "pilihan = int(input(\"Pilih soal (1/2/3): \"))\n",
        "\n",
        "if pilihan == 1:\n",
        "    print(f\"Soal: {RP}/{ZA} = ?\")\n",
        "    print(\"Jawaban:\", RP / ZA)\n",
        "\n",
        "elif pilihan == 2:\n",
        "    print(f\"Soal: {RE}{ZA}{RP}*{PE} = ?\")\n",
        "    print(\"Jawaban:\", RE * ZA * RP * PE)\n",
        "\n",
        "elif pilihan == 3:\n",
        "  print(f\"soal: {PE}+{ZA}*{RE}-{ZA} = ?\")\n",
        "  print(\"jawaban:\", PE+ZA*RE-ZA)\n",
        "\n",
        "else:\n",
        "    print(\"SOAL HANYA 3\")"
      ],
      "metadata": {
        "colab": {
          "base_uri": "https://localhost:8080/"
        },
        "id": "y_-z0x2KTScu",
        "outputId": "b282a917-ceee-4124-dde2-c345d2936dba"
      },
      "execution_count": 82,
      "outputs": [
        {
          "output_type": "stream",
          "name": "stdout",
          "text": [
            "Pilih soal (1/2/3): 1\n",
            "Soal: 45/9 = ?\n",
            "Jawaban: 5.0\n"
          ]
        }
      ]
    },
    {
      "cell_type": "code",
      "source": [
        "# LATIHAN 4\n",
        "\n",
        "daftar_bulan = int(input(\"Masukkan Angka (1-12): \"))\n",
        "\n",
        "if daftar_bulan == 1:\n",
        "    print(\"Januari\")\n",
        "elif daftar_bulan == 2:\n",
        "    print(\"Februari\")\n",
        "elif daftar_bulan == 3:\n",
        "    print(\"Maret\")\n",
        "elif daftar_bulan == 4:\n",
        "    print(\"April\")\n",
        "elif daftar_bulan == 5:\n",
        "    print(\"Mei\")\n",
        "elif daftar_bulan == 6:\n",
        "    print(\"Juni\")\n",
        "elif daftar_bulan == 7:\n",
        "    print(\"Juli\")\n",
        "elif daftar_bulan == 8:\n",
        "    print(\"Agustus\")\n",
        "elif daftar_bulan == 9:\n",
        "    print(\"September\")\n",
        "elif daftar_bulan == 10:\n",
        "    print(\"Oktober\")\n",
        "elif daftar_bulan == 11:\n",
        "    print(\"November\")\n",
        "elif daftar_bulan == 12:\n",
        "    print(\"Desember\")\n",
        "else:\n",
        "    print(\"Input Salah\")"
      ],
      "metadata": {
        "colab": {
          "base_uri": "https://localhost:8080/"
        },
        "id": "62kgT7qAXo4P",
        "outputId": "1c14f57d-77ed-4702-d3bb-81e0035f7098"
      },
      "execution_count": 90,
      "outputs": [
        {
          "output_type": "stream",
          "name": "stdout",
          "text": [
            "Masukkan Angka (1-12): 29\n",
            "Input Salah\n"
          ]
        }
      ]
    },
    {
      "cell_type": "code",
      "source": [
        "# LATIHAN 5\n",
        "jam = int(input(\"Masukkan jam (0-23): \"))\n",
        "\n",
        "if 0 <= jam <= 11:\n",
        "    print(\"Selamat Pagi\")\n",
        "elif 12 <= jam <= 15:\n",
        "    print(\"Selamat Siang\")\n",
        "elif 16 <= jam <= 18:\n",
        "    print(\"Selamat Sore\")\n",
        "elif 19 <= jam <= 23:\n",
        "    print(\"Selamat Malam\")\n",
        "else:\n",
        "    print(\"TAK TERSEDIA\")"
      ],
      "metadata": {
        "colab": {
          "base_uri": "https://localhost:8080/"
        },
        "id": "uyglIdtwZByd",
        "outputId": "b5ce76ab-ca83-48d3-f956-d9450f651408"
      },
      "execution_count": 97,
      "outputs": [
        {
          "output_type": "stream",
          "name": "stdout",
          "text": [
            "Masukkan jam (0-23): 44\n",
            "TAK TERSEDIA\n"
          ]
        }
      ]
    }
  ]
}