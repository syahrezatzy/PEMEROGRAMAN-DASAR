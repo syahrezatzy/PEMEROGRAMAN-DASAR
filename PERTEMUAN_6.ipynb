{
  "nbformat": 4,
  "nbformat_minor": 0,
  "metadata": {
    "colab": {
      "provenance": [],
      "authorship_tag": "ABX9TyNEjm9sS0aalZ2JCkde43R9",
      "include_colab_link": true
    },
    "kernelspec": {
      "name": "python3",
      "display_name": "Python 3"
    },
    "language_info": {
      "name": "python"
    }
  },
  "cells": [
    {
      "cell_type": "markdown",
      "metadata": {
        "id": "view-in-github",
        "colab_type": "text"
      },
      "source": [
        "<a href=\"https://colab.research.google.com/github/syahrezatzy/PEMEROGRAMAN-DASAR/blob/main/PERTEMUAN_6.ipynb\" target=\"_parent\"><img src=\"https://colab.research.google.com/assets/colab-badge.svg\" alt=\"Open In Colab\"/></a>"
      ]
    },
    {
      "cell_type": "code",
      "execution_count": 35,
      "metadata": {
        "id": "7tbh6535km02",
        "colab": {
          "base_uri": "https://localhost:8080/"
        },
        "outputId": "74d4b0f5-f5d2-4506-a4e3-f72918eb5102"
      },
      "outputs": [
        {
          "output_type": "stream",
          "name": "stdout",
          "text": [
            "Halo, Reza!\n",
            "6\n",
            "<class 'int'>\n",
            "Masukkan nama kamu: reza\n",
            "Halo, reza\n",
            "90\n",
            "65\n",
            "15\n",
            "0\n",
            "1\n",
            "2\n",
            "3\n",
            "4\n",
            "[1, 2, 5, 8]\n"
          ]
        }
      ],
      "source": [
        "#built in python\n",
        "\n",
        "print(\"Halo, Reza!\")\n",
        "\n",
        "\n",
        "nama = \"Python\"\n",
        "print(len(nama))\n",
        "\n",
        "\n",
        "angka = 10\n",
        "print(type(angka))\n",
        "\n",
        "\n",
        "nama = input(\"Masukkan nama kamu: \")\n",
        "print(\"Halo,\", nama)\n",
        "\n",
        "nilai = [70, 85, 90, 65]\n",
        "print(max(nilai))\n",
        "print(min(nilai))\n",
        "\n",
        "angka = [1, 2, 3, 4, 5]\n",
        "print(sum(angka))\n",
        "\n",
        "\n",
        "for i in range(5):\n",
        "    print(i)\n",
        "\n",
        "\n",
        "data = [5, 2, 8, 1]\n",
        "print(sorted(data))\n",
        "\n",
        "\n",
        "\n",
        "\n",
        "\n",
        "\n",
        "\n",
        "\n",
        "\n"
      ]
    },
    {
      "cell_type": "code",
      "source": [
        "#fungsi Percabangan (If, Elif, Else) serta Perulangan (For, While) serta tipe data primitif (string, int, bolean) dan non primiti (list, tuple, dictionary dan set)\n",
        "\n",
        "print(\"===SELF NET===\")\n",
        "\n",
        "print(\"DAY 1 JADI OPERATOR WARNET \")\n",
        "\n",
        "nama_pembeli = input(\"Masukkan nama anda: \")\n",
        "metode_pembayaran = input(\"pilih metode pembayaran (Cash/QRIS): \")\n",
        "\n",
        "\n",
        "info_member = input(\"status member ? (ya/tidak): \")\n",
        "if info_member == \"ya\":\n",
        "    member = True\n",
        "else:\n",
        "    member = False\n",
        "\n",
        "\n",
        "daftar_barang = [\"PAKET MALAM\", \"PAKET SIANG\", \"PAKET PELAJAR\", \"PAKET SULTAN\"]\n",
        "harga_barang = (25000, 15000, 10000, 45000)\n",
        "pembeli = {\"Nama\": nama_pembeli , \"Pembayaran\": metode_pembayaran, \"Member\": member}\n",
        "promo_tersedia = {\"Gak dapat diskon\", \"Diskon Langganan(10%)\", \"Diskon Orang dalam (20%)\"}\n",
        "\n",
        "print(\"Halo,\", pembeli[\"Nama\"])\n",
        "print(\"Daftar barang yang tersedia:\")\n",
        "\n",
        "\n",
        "for i in range(len(daftar_barang)):\n",
        "    print(f\"{i+1}. {daftar_barang[i]} - Rp{harga_barang[i]}\")\n",
        "\n",
        "total = 0\n",
        "jumlah_barang = int(input(\"Berapa Paket Yang Mau Dibeli? \"))\n",
        "\n",
        "\n",
        "hitung = 0\n",
        "while hitung < jumlah_barang:\n",
        "    pilihan_str = input(f\"Masukkan Paket ke-{hitung+1}: \")\n",
        "    if pilihan_str.isdigit(): # Check if the input is a digit\n",
        "        pilihan = int(pilihan_str)\n",
        "        if 1 <= pilihan <= len(daftar_barang):\n",
        "            total += harga_barang[pilihan-1]\n",
        "            hitung += 1 # Only increment hitung if a valid choice is made\n",
        "        else:\n",
        "            print(\"PAKET KOSONG !\")\n",
        "    else:\n",
        "        print(\"Masukkan angka untuk pilihan paket!\")\n",
        "\n",
        "\n",
        "#diskon orang dalam\n",
        "if total > 40000:\n",
        "    diskon = 0.2\n",
        "    kategori = \"Diskon 20%\"\n",
        "#diskon langganan\n",
        "elif total > 20000:\n",
        "    diskon = 0.1\n",
        "    kategori = \"Diskon 10%\"\n",
        "#Gak dapat diskon\n",
        "else:\n",
        "    diskon = 0\n",
        "    kategori = \"Tanpa Diskon\"\n",
        "\n",
        "# extra diskon khusus member dapat 5% yaa\n",
        "if member:\n",
        "    total_akhir = total - (total * (diskon + 0.05))\n",
        "    tambahan = \"Termasuk diskon member 5%\"\n",
        "else:\n",
        "    total_akhir = total - (total * diskon)\n",
        "    tambahan = \"Tidak termasuk diskon member\"\n",
        "\n",
        "\n",
        "print(\" STRUK PEMBAYARAN \")\n",
        "print(f\"Nama Pembeli     : {pembeli['Nama']}\")\n",
        "print(f\"Metode Pembayaran: {pembeli['Pembayaran']}\")\n",
        "print(f\"Member Aktif     : {pembeli['Member']}\")\n",
        "print(f\"Promo Tersedia   : {promo_tersedia}\")\n",
        "print(f\"Kategori Diskon  : {kategori}\")\n",
        "print(f\"Keterangan        : {tambahan}\")\n",
        "print(f\"Total Bayar      : Rp{total_akhir}\")\n",
        "print(\"Terima kasih sudah berbelanja di toko kami!\")"
      ],
      "metadata": {
        "colab": {
          "base_uri": "https://localhost:8080/"
        },
        "collapsed": true,
        "id": "nMEhsLgKN_UO",
        "outputId": "64b01c91-f65c-416f-8500-825df0c9470a"
      },
      "execution_count": 41,
      "outputs": [
        {
          "output_type": "stream",
          "name": "stdout",
          "text": [
            "===SELF NET===\n",
            "DAY 1 JADI OPERATOR WARNET \n",
            "Masukkan nama anda: REZA\n",
            "pilih metode pembayaran (Cash/QRIS): CAsh\n",
            "status member ? (ya/tidak): ya\n",
            "\n",
            "Halo, REZA\n",
            "Daftar barang yang tersedia:\n",
            "1. PAKET MALAM - Rp25000\n",
            "2. PAKET SIANG - Rp15000\n",
            "3. PAKET PELAJAR - Rp10000\n",
            "4. PAKET SULTAN - Rp45000\n",
            "Berapa Paket Yang Mau Dibeli? 4\n",
            "Masukkan Paket ke-1: 1\n",
            "Masukkan Paket ke-2: 2\n",
            "Masukkan Paket ke-3: 3\n",
            "Masukkan Paket ke-4: 4\n",
            " STRUK PEMBAYARAN \n",
            "Nama Pembeli     : REZA\n",
            "Metode Pembayaran: CAsh\n",
            "Member Aktif     : True\n",
            "Promo Tersedia   : {'Gak dapat diskon', 'Diskon Langganan(10%)', 'Diskon Orang dalam (20%)'}\n",
            "Kategori Diskon  : Diskon 20%\n",
            "Keterangan        : Termasuk diskon member 5%\n",
            "Total Bayar      : Rp71250.0\n",
            "Terima kasih sudah berbelanja di toko kami!\n"
          ]
        }
      ]
    }
  ]
}