{
  "nbformat": 4,
  "nbformat_minor": 0,
  "metadata": {
    "colab": {
      "provenance": [],
      "authorship_tag": "ABX9TyPYjLGDAjO1teXumHyanSc5",
      "include_colab_link": true
    },
    "kernelspec": {
      "name": "python3",
      "display_name": "Python 3"
    },
    "language_info": {
      "name": "python"
    }
  },
  "cells": [
    {
      "cell_type": "markdown",
      "metadata": {
        "id": "view-in-github",
        "colab_type": "text"
      },
      "source": [
        "<a href=\"https://colab.research.google.com/github/syahrezatzy/PEMEROGRAMAN-DASAR/blob/main/Untitled0.ipynb\" target=\"_parent\"><img src=\"https://colab.research.google.com/assets/colab-badge.svg\" alt=\"Open In Colab\"/></a>"
      ]
    },
    {
      "cell_type": "code",
      "execution_count": null,
      "metadata": {
        "colab": {
          "base_uri": "https://localhost:8080/"
        },
        "id": "41bxDZMRuvUT",
        "outputId": "74efdf15-d2aa-4eb9-dc50-36f4bb38decc"
      },
      "outputs": [
        {
          "output_type": "stream",
          "name": "stdout",
          "text": [
            "berapa porsi makanan yang kamu beli: 69\n",
            "siapakah nama pelanggan :Syahreza\n",
            "siapa nama pelanggan ? : Syahreza\n",
            "berapa porsi makanan yang kamu beli: 69.0\n"
          ]
        }
      ],
      "source": [
        "total = float(input(\"berapa porsi makanan yang kamu beli: \"))\n",
        "nama = input(\"siapakah nama pelanggan :\")\n",
        "\n",
        "print(f\"siapa nama pelanggan ? : {nama}\")\n",
        "print(f\"berapa porsi makanan yang kamu beli: {total}\")"
      ]
    },
    {
      "cell_type": "code",
      "source": [
        "nama = \"syahreza\"\n",
        "umur = 19\n",
        "berat = 90.25\n",
        "angka = 125\n",
        "angka = 29\n",
        "\n",
        "print(\"nama saya adalah %s\" %nama)\n",
        "print(\"umur saya adalah %d tahun\" % umur)\n",
        "print(\"berat badanku %.1f kilogram\" %berat)\n",
        "print(\"buat angka ke dalam hexadecimal : %x\" % angka)\n",
        "print(\"jadikan angka octal: %o\" %angka)"
      ],
      "metadata": {
        "colab": {
          "base_uri": "https://localhost:8080/"
        },
        "id": "pXtOyRqs6eTB",
        "outputId": "4195a64e-c649-4a84-a8d0-68ab571c16de"
      },
      "execution_count": null,
      "outputs": [
        {
          "output_type": "stream",
          "name": "stdout",
          "text": [
            "nama saya adalah syahreza\n",
            "umur saya adalah 19 tahun\n",
            "berat badanku 90.2 kilogram\n",
            "buat angka ke dalam hexadecimal : 1d\n",
            "jadikan angka octal: 35\n"
          ]
        }
      ]
    },
    {
      "cell_type": "code",
      "source": [
        "\n",
        "total_detik = int(input(\"total detik: \"))\n",
        "jam = total_detik // 3600\n",
        "sisa_detik = total_detik % 3600\n",
        "menit = sisa_detik // 60\n",
        "detik = sisa_detik % 60\n",
        "\n",
        "\n",
        "print(f\"Hasil Konversi: {jam} Jam, {menit} Menit, {detik} Detik\")\n"
      ],
      "metadata": {
        "colab": {
          "base_uri": "https://localhost:8080/"
        },
        "id": "JzL5xRx2BmLb",
        "outputId": "f8f73a3b-0f59-4a75-e5e4-599614dec1b4"
      },
      "execution_count": null,
      "outputs": [
        {
          "output_type": "stream",
          "name": "stdout",
          "text": [
            "total detik: 358200\n",
            "Hasil Konversi: 99 Jam, 30 Menit, 0 Detik\n"
          ]
        }
      ]
    },
    {
      "cell_type": "code",
      "source": [
        "\n",
        "tugas = int(input(\"Masukkan nilai Tugas: \"))\n",
        "uts = int(input(\"Masukkan nilai UTS: \"))\n",
        "uas = int(input(\"Masukkan nilai UAS: \"))\n",
        "\n",
        "nilai_mahasiswa = (0.3 * tugas) + (0.3 * uts) + (0.4 * uas)\n",
        "\n",
        "standar_kelulusan = int(input(\"Masukkan standar kelulusan: \"))\n",
        "\n",
        "apakah_lulus = nilai_mahasiswa >= standar_kelulusan\n",
        "\n",
        "perlu_remedial = nilai_mahasiswa < standar_kelulusan\n",
        "\n",
        "print(f\"Nilai Mahasiswa   : {nilai_mahasiswa}\")\n",
        "print(f\"Standar Kelulusan : {standar_kelulusan}\")\n",
        "print(f\"Apakah Mahasiswa Lulus? {apakah_lulus}\")\n",
        "print(f\"Perlu Remedial? {perlu_remedial}\")\n"
      ],
      "metadata": {
        "colab": {
          "base_uri": "https://localhost:8080/"
        },
        "id": "9UmnmIpgGNV1",
        "outputId": "7ac7f0e1-c2ff-4999-c2a1-80d308455844"
      },
      "execution_count": null,
      "outputs": [
        {
          "output_type": "stream",
          "name": "stdout",
          "text": [
            "Masukkan nilai Tugas: 80\n",
            "Masukkan nilai UTS: 70\n",
            "Masukkan nilai UAS: 90\n",
            "Masukkan standar kelulusan: 70\n",
            "Nilai Mahasiswa   : 81.0\n",
            "Standar Kelulusan : 70\n",
            "Apakah Mahasiswa Lulus? True\n",
            "Perlu Remedial? False\n"
          ]
        }
      ]
    },
    {
      "cell_type": "code",
      "source": [
        "\n",
        "belanja = int(input(\"Masukkan total belanja: \"))\n",
        "\n",
        "if belanja > 1000000:\n",
        "    diskon = 0.35 * belanja   # 35% untuk belanja > 1 juta\n",
        "elif belanja > 500000:\n",
        "    diskon = 0.10 * belanja   # 10% untuk belanja > 500 ribu\n",
        "else:\n",
        "    diskon = 0                # Tidak ada diskon\n",
        "\n",
        "total_harga = belanja - diskon\n",
        "\n",
        "print(\"Total belanja        =\", belanja)\n",
        "print(\"Diskon yang didapat  =\", diskon)\n",
        "print(\"Total harga setelah diskon =\", total_harga)"
      ],
      "metadata": {
        "colab": {
          "base_uri": "https://localhost:8080/"
        },
        "id": "W6yjWtUi0LzS",
        "outputId": "4ceda0ea-d5f2-4f45-ba44-5aad266fb3bf"
      },
      "execution_count": 4,
      "outputs": [
        {
          "output_type": "stream",
          "name": "stdout",
          "text": [
            "Masukkan total belanja: 499000\n",
            "Total belanja        = 499000\n",
            "Diskon yang didapat  = 0\n",
            "Total harga setelah diskon = 499000\n"
          ]
        }
      ]
    },
    {
      "cell_type": "code",
      "source": [
        "\n",
        "tahun = int(input(\"Masukkan tahun: \"))\n",
        "\n",
        "if (tahun % 4 == 0 and tahun % 100 != 0) or (tahun % 400 == 0):\n",
        "    print(tahun, \"adalah tahun kabisat\")\n",
        "\n",
        "else:\n",
        "    print(tahun, \"bukan tahun kabisat\")\n"
      ],
      "metadata": {
        "id": "IDswgi6f4ik2"
      },
      "execution_count": null,
      "outputs": []
    },
    {
      "cell_type": "code",
      "source": [
        "#KASIR ABAL ABAL BY Syahreza\n",
        "\n",
        "jumlah_item = int(input(\"Masukkan jumlah item yang dibeli: \"))\n",
        "\n",
        "subtotal = 0\n",
        "for i in range(jumlah_item):\n",
        "    harga = float(input(f\"Masukkan harga item ke-{i+1}: \"))\n",
        "    subtotal += harga\n",
        "\n",
        "member = input(\"Apakah Anda member? (y/n): \").lower()\n",
        "\n",
        "if member == \"y\" and subtotal > 100000:\n",
        "    diskon = 0.15 * subtotal\n",
        "else:\n",
        "    diskon = 0\n",
        "\n",
        "harga_setelah_diskon = subtotal - diskon3\n",
        "\n",
        "ppn = 0.11 * harga_setelah_diskon\n",
        "\n",
        "total_akhir = harga_setelah_diskon + ppn\n",
        "\n",
        "print(\"Subtotal               : Rp\", format(subtotal, \",\"))\n",
        "print(\"Diskon (15%)           : Rp\", format(diskon, \",\"))\n",
        "print(\"Harga setelah diskon   : Rp\", format(harga_setelah_diskon, \",\"))\n",
        "print(\"PPN (11%)              : Rp\", format(ppn, \",\"))\n",
        "print(\"Total yang harus dibayar: Rp\", format(total_akhir, \",\"))\n",
        "\n"
      ],
      "metadata": {
        "colab": {
          "base_uri": "https://localhost:8080/"
        },
        "id": "FbIplGSu40G6",
        "outputId": "64a9614f-7676-4e52-93e3-7f62e3c5c4e5"
      },
      "execution_count": 22,
      "outputs": [
        {
          "output_type": "stream",
          "name": "stdout",
          "text": [
            "Masukkan jumlah item yang dibeli: 4\n",
            "Masukkan harga item ke-1: 35000\n",
            "Masukkan harga item ke-2: 35000\n",
            "Masukkan harga item ke-3: 35000\n",
            "Masukkan harga item ke-4: 35000\n",
            "Apakah Anda member? (y/n): y\n",
            "Subtotal               : Rp 140,000.0\n",
            "Diskon (15%)           : Rp 21,000.0\n",
            "Harga setelah diskon   : Rp 119,000.0\n",
            "PPN (11%)              : Rp 13,090.0\n",
            "Total yang harus dibayar: Rp 132,090.0\n"
          ]
        }
      ]
    }
  ]
}