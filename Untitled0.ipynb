{
  "nbformat": 4,
  "nbformat_minor": 0,
  "metadata": {
    "colab": {
      "provenance": [],
      "authorship_tag": "ABX9TyONjjwLHqLLvEss6Kwtg6Jo",
      "include_colab_link": true
    },
    "kernelspec": {
      "name": "python3",
      "display_name": "Python 3"
    },
    "language_info": {
      "name": "python"
    }
  },
  "cells": [
    {
      "cell_type": "markdown",
      "metadata": {
        "id": "view-in-github",
        "colab_type": "text"
      },
      "source": [
        "<a href=\"https://colab.research.google.com/github/syahrezatzy/PEMEROGRAMAN-DASAR/blob/main/Untitled0.ipynb\" target=\"_parent\"><img src=\"https://colab.research.google.com/assets/colab-badge.svg\" alt=\"Open In Colab\"/></a>"
      ]
    },
    {
      "cell_type": "code",
      "execution_count": null,
      "metadata": {
        "colab": {
          "base_uri": "https://localhost:8080/"
        },
        "id": "JLNkkw9ZDTiD",
        "outputId": "1e6370d6-639f-49ad-c7e4-1f0a40f799e9"
      },
      "outputs": [
        {
          "output_type": "stream",
          "name": "stdout",
          "text": [
            "syahreza\n",
            "putra\n",
            "19\n",
            "False\n"
          ]
        }
      ],
      "source": [
        "\n",
        "fisrtName = \"syahreza\"\n",
        "lastName = \"putra\"\n",
        "age = 19\n",
        "isMarried = False\n",
        "\n",
        "print (fisrtName)\n",
        "print (lastName)\n",
        "print (age)\n",
        "print (isMarried)\n"
      ]
    },
    {
      "cell_type": "code",
      "source": [
        "data_diri = {\"firstName\" : \"syahreza\", \"lastName\" : \"putra\", \"age\" : 19, \"isMarried\" : False}\n",
        "print (data_diri)"
      ],
      "metadata": {
        "colab": {
          "base_uri": "https://localhost:8080/"
        },
        "id": "c4rRQVSYG_zJ",
        "outputId": "6dedac44-3e46-4928-c780-3cf76663210d"
      },
      "execution_count": null,
      "outputs": [
        {
          "output_type": "stream",
          "name": "stdout",
          "text": [
            "{'firstName': 'syahreza', 'lastName': 'putra', 'age': 19, 'isMarried': False}\n"
          ]
        }
      ]
    },
    {
      "cell_type": "code",
      "source": [
        "inspeksi = [\"pemahaman terhadap rencana dan desain\",\"ketersediaan bahan dan peralatan\",\"pengawasan pekerjaan\",\"kualitas produksi\",\"keselamatan kerja\",\"koordinasi dengan pemilik proyek\"]\n",
        "\n",
        "print (inspeksi)\n"
      ],
      "metadata": {
        "colab": {
          "base_uri": "https://localhost:8080/"
        },
        "id": "ANH-A7SdJ4NU",
        "outputId": "e25228ca-de67-4aed-e56c-6046ae1595f1"
      },
      "execution_count": null,
      "outputs": [
        {
          "output_type": "stream",
          "name": "stdout",
          "text": [
            "['pemahaman terhadap rencana dan desain', 'ketersediaan bahan dan peralatan', 'pengawasan pekerjaan', 'kualitas produksi', 'keselamatan kerja', 'koordinasi dengan pemilik proyek']\n"
          ]
        }
      ]
    },
    {
      "cell_type": "code",
      "source": [
        "startTime = {\"HH\": 9, \"mm\": 23, \"ss\" : 57}\n",
        "endTime = {\"HH\": 15, \"mm\": 25 , \"ss\" : 43}\n",
        "\n",
        "print (startTime)\n",
        "print (endTime)"
      ],
      "metadata": {
        "colab": {
          "base_uri": "https://localhost:8080/"
        },
        "id": "3yOgAtrvMUOi",
        "outputId": "b961bb9c-10c9-46ad-d974-57d04ce52a03"
      },
      "execution_count": null,
      "outputs": [
        {
          "output_type": "stream",
          "name": "stdout",
          "text": [
            "{'HH': 9, 'mm': 23, 'ss': 57}\n",
            "{'HH': 15, 'mm': 25, 'ss': 43}\n"
          ]
        }
      ]
    },
    {
      "cell_type": "code",
      "source": [
        "# Katalog produk\n",
        "Katalog_A = {\"lele\",\"mujair\",\"gurame\"}\n",
        "Katalog_B = {\"tongkol\",\"kakap putih\",\"kerapu\"}\n",
        "\n",
        "# produk diskon\n",
        "produk_diskon = {\"gurame\",\"kakap putih\"}\n",
        "\n",
        "katalog_lengkap = Katalog_A | Katalog_B\n",
        "\n",
        "produk_promo_aktif = katalog_lengkap & produk_diskon\n",
        "\n",
        "print (katalog_lengkap)\n",
        "print (produk_promo_aktif)"
      ],
      "metadata": {
        "id": "bydkbOOnOHwS",
        "colab": {
          "base_uri": "https://localhost:8080/"
        },
        "outputId": "cd002972-426f-4e76-b5d3-470bcc7bddf9"
      },
      "execution_count": null,
      "outputs": [
        {
          "output_type": "stream",
          "name": "stdout",
          "text": [
            "{'kakap putih', 'lele', 'gurame', 'mujair', 'kerapu', 'tongkol'}\n",
            "{'kakap putih', 'gurame'}\n"
          ]
        }
      ]
    }
  ]
}