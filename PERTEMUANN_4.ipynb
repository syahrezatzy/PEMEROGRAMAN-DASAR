{
  "cells": [
    {
      "cell_type": "markdown",
      "metadata": {
        "id": "view-in-github",
        "colab_type": "text"
      },
      "source": [
        "<a href=\"https://colab.research.google.com/github/syahrezatzy/PEMEROGRAMAN-DASAR/blob/main/PERTEMUANN_4.ipynb\" target=\"_parent\"><img src=\"https://colab.research.google.com/assets/colab-badge.svg\" alt=\"Open In Colab\"/></a>"
      ]
    },
    {
      "cell_type": "code",
      "execution_count": null,
      "metadata": {
        "colab": {
          "base_uri": "https://localhost:8080/"
        },
        "id": "YW8tgkDThaUI",
        "outputId": "10497f7b-dbcc-4815-d576-6d145ff4ce04"
      },
      "outputs": [
        {
          "name": "stdout",
          "output_type": "stream",
          "text": [
            "pengunjung adalah orang dewasa\n"
          ]
        }
      ],
      "source": [
        "#variabel untuk menyimpan umur pengunjung\n",
        "umur : int = 19\n",
        "\n",
        "#program hanya akan mencetak pesan jika umur diatas 17\n",
        "if umur > 17 :\n",
        "    print(\"pengunjung adalah orang dewasa\")"
      ]
    },
    {
      "cell_type": "code",
      "execution_count": null,
      "metadata": {
        "colab": {
          "base_uri": "https://localhost:8080/"
        },
        "id": "sJI14yETiniL",
        "outputId": "078880bd-3a2c-4d90-8ac9-f7fd12194b11"
      },
      "outputs": [
        {
          "name": "stdout",
          "output_type": "stream",
          "text": [
            "masukkan usernamesyahrezatzy\n",
            "masukkan password123tzy\n",
            "login berhasil\n"
          ]
        }
      ],
      "source": [
        "username = input(\"masukkan username\")\n",
        "password = input(\"masukkan password\")\n",
        "\n",
        "if username == \"syahrezatzy\" and password == \"123tzy\" :\n",
        "    print(\"login berhasil\")\n",
        "else :\n",
        "    print(\"login gagal\")"
      ]
    },
    {
      "cell_type": "code",
      "execution_count": null,
      "metadata": {
        "colab": {
          "base_uri": "https://localhost:8080/"
        },
        "id": "EAG5UpXrjNA9",
        "outputId": "c5568276-0544-451f-fbbb-5ffd98500c65"
      },
      "outputs": [
        {
          "name": "stdout",
          "output_type": "stream",
          "text": [
            " total belanja : Rp 150000\n",
            "selamat karena belanja > Rp. 100.000 anda mendapat Voucher Makan \n",
            "dan discount 5%\n",
            "total yang harus dibayar : Rp 142500.0\n",
            "terimakasih sudah belanja sama kami\n",
            "jumpa kembali\n"
          ]
        }
      ],
      "source": [
        "#program untuk mengecek bonus dan diskon\n",
        "total_belanja = input(\" total belanja : Rp \")\n",
        "#jumlah yang harus dibayar adalah berapa total belanjaannya\n",
        "#kalau dapat diskon akan berkurang\n",
        "bayar = int(total_belanja)\n",
        "#jika dia belanja diatas 100rb maka berikan bonus dan diskon\n",
        "if int(total_belanja)>100000:\n",
        "    print(\"selamat karena belanja > Rp. 100.000 anda mendapat Voucher Makan \")\n",
        "    print(\"dan discount 5%\")\n",
        "\n",
        "    #hitung discountnya\n",
        "    diskon = int(total_belanja)* 5/100 #5%\n",
        "    bayar = int(total_belanja)- diskon\n",
        "\n",
        "    #cetak struk\n",
        "    print(\"total yang harus dibayar : Rp %s\"% bayar)\n",
        "    print(\"terimakasih sudah belanja sama kami\")\n",
        "    print(\"jumpa kembali\")"
      ]
    },
    {
      "cell_type": "code",
      "execution_count": null,
      "metadata": {
        "colab": {
          "base_uri": "https://localhost:8080/"
        },
        "id": "1SB44yBomja6",
        "outputId": "3fed545f-1aba-463d-a62d-41046a8e36c2"
      },
      "outputs": [
        {
          "name": "stdout",
          "output_type": "stream",
          "text": [
            "ada notifikasi baru\n"
          ]
        }
      ],
      "source": [
        "#variabel untuk memeriksa apakah ada notifikasi baru\n",
        "ada_notifikasi_baru: bool = True\n",
        "\n",
        "if ada_notifikasi_baru:\n",
        "  print(\"ada notifikasi baru\")\n",
        "else:\n",
        "  print(\"tidak ada notifikasi baru\")"
      ]
    },
    {
      "cell_type": "code",
      "execution_count": null,
      "metadata": {
        "colab": {
          "base_uri": "https://localhost:8080/"
        },
        "id": "GKzbDTbpnGTh",
        "outputId": "b228d013-acba-4a45-a4b5-371f01e19684"
      },
      "outputs": [
        {
          "name": "stdout",
          "output_type": "stream",
          "text": [
            "berapa umur kamu: 15\n",
            "kamu belum boleh membuat SIM\n"
          ]
        }
      ],
      "source": [
        "umur = input(\"berapa umur kamu: \")\n",
        "if int(umur)>= 18:\n",
        "    print(\"kamu boleh membuat SIM\")\n",
        "else:\n",
        "  print(\"kamu belum boleh membuat SIM\")"
      ]
    },
    {
      "cell_type": "code",
      "execution_count": null,
      "metadata": {
        "colab": {
          "base_uri": "https://localhost:8080/"
        },
        "id": "M5H-h1NSI-Gv",
        "outputId": "ed822ca8-f917-4447-eb10-6cfaa4e2cc01"
      },
      "outputs": [
        {
          "name": "stdout",
          "output_type": "stream",
          "text": [
            "Anda mendapat diskon! Total bayar: Rp 25200.0\n"
          ]
        }
      ],
      "source": [
        "total_belanja = 28000\n",
        "\n",
        "if total_belanja > 20000:\n",
        "    diskon = total_belanja * 0.10\n",
        "    total_bayar = total_belanja - diskon\n",
        "    print(f\"Anda mendapat diskon! Total bayar: Rp {total_bayar}\")\n",
        "else:\n",
        "    print(f\"Total bayar: Rp {total_belanja}\")"
      ]
    },
    {
      "cell_type": "code",
      "execution_count": null,
      "metadata": {
        "colab": {
          "base_uri": "https://localhost:8080/"
        },
        "id": "2t1I53A4JxwP",
        "outputId": "fefe2e34-2cdd-4e28-b704-fa067d4a7e2b"
      },
      "outputs": [
        {
          "name": "stdout",
          "output_type": "stream",
          "text": [
            "masukkan bilangan12323349\n",
            "angka ganjil\n"
          ]
        }
      ],
      "source": [
        "angka = int(input(\"masukkan bilangan\"))\n",
        "\n",
        "if angka % 2 == 0:\n",
        "    print(\"angka genap\")\n",
        "else:\n",
        "    print(\"angka ganjil\")"
      ]
    },
    {
      "cell_type": "code",
      "execution_count": null,
      "metadata": {
        "colab": {
          "base_uri": "https://localhost:8080/"
        },
        "id": "EOZjW3BWKjD0",
        "outputId": "d2e8793a-1bcc-4637-9562-8200ee3b199e"
      },
      "outputs": [
        {
          "name": "stdout",
          "output_type": "stream",
          "text": [
            "luar biasa! nilai A \n"
          ]
        }
      ],
      "source": [
        "nilai = 99\n",
        "if nilai >= 85:\n",
        "    print(\"luar biasa! nilai A \")\n",
        "elif nilai >= 70:\n",
        "    print(\"bagus! nilai B\")\n",
        "elif nilai >= 60:\n",
        "    print(\"cukup nilai C\")\n",
        "else:\n",
        "    print(\"nilai kurang,perlu belajar lebih giat\")"
      ]
    },
    {
      "cell_type": "code",
      "execution_count": null,
      "metadata": {
        "colab": {
          "base_uri": "https://localhost:8080/"
        },
        "id": "t-Y_aCJwLn57",
        "outputId": "b6dd27d8-9202-47f4-e0b1-d56d44755108"
      },
      "outputs": [
        {
          "name": "stdout",
          "output_type": "stream",
          "text": [
            "Anda mendapat diskon hari biasa sebesar 5.0% \n"
          ]
        }
      ],
      "source": [
        "# menentukan jenis diskon berdasarkan hari\n",
        "hari: str = \"rabu\"\n",
        "\n",
        "if hari ==\"sabtu\" or hari == \"minggu\" :\n",
        "   diskon: float = 0.20 # diskon 20%\n",
        "   print(f\"selamat! Anda dapat diskon akhir pekan sebesar {diskon*100}% \")\n",
        "elif hari == \"jumat\" :\n",
        "  diskon: float = 0.15 #\n",
        "  print(f\"Diskon spesial jumat! anda mendapat potongan {diskon*100}% \")\n",
        "else:\n",
        "    diskon: float = 0.05 # diskon 5%\n",
        "    print(f\"Anda mendapat diskon hari biasa sebesar {diskon*100}% \")"
      ]
    },
    {
      "cell_type": "code",
      "execution_count": null,
      "metadata": {
        "colab": {
          "base_uri": "https://localhost:8080/"
        },
        "id": "Jz_Awd3gO69t",
        "outputId": "8b93ff17-bb34-4f7f-c98c-990b98d58f96"
      },
      "outputs": [
        {
          "name": "stdout",
          "output_type": "stream",
          "text": [
            "masukkan jumlah uang (Rp): 9099090000\n",
            "1. Dollar (USD)\n",
            "2. Euro (EUR)\n",
            "3. Yen (JPY)\n",
            "pilih konversi (1/2/3): 5\n",
            "pilihan tidak valid\n"
          ]
        }
      ],
      "source": [
        "rupiah = int(input(\"masukkan jumlah uang (Rp): \"))\n",
        "print(\"1. Dollar (USD)\")\n",
        "print(\"2. Euro (EUR)\")\n",
        "print(\"3. Yen (JPY)\")\n",
        "pilih = int(input(\"pilih konversi (1/2/3): \"))\n",
        "\n",
        "if pilih ==1:\n",
        "     print(\"1. dalam Dollar:\", rupiah / 15000)\n",
        "\n",
        "elif pilih == 2:\n",
        "     print(\"2. dalam Euro:\", rupiah / 16000)\n",
        "\n",
        "elif pilih == 3:\n",
        "    print(\"dalam Yen: \", rupiah / 120)\n",
        "else:\n",
        "    print(\"pilihan tidak valid\")\n"
      ]
    },
    {
      "cell_type": "code",
      "execution_count": null,
      "metadata": {
        "colab": {
          "base_uri": "https://localhost:8080/"
        },
        "id": "12VE6NCZSLt3",
        "outputId": "8a13863a-f422-4b3f-998f-4f2c15cb0746"
      },
      "outputs": [
        {
          "name": "stdout",
          "output_type": "stream",
          "text": [
            "Masukkan angka: 87\n",
            "Bukan kelipatan 5\n"
          ]
        }
      ],
      "source": [
        "# LATIHAN 1\n",
        "angka = int(input(\"Masukkan angka: \"))\n",
        "if angka % 5 == 0:\n",
        "    print(\"Kelipatan 5\")\n",
        "else:\n",
        "    print(\"Bukan kelipatan 5\")\n"
      ]
    },
    {
      "cell_type": "code",
      "execution_count": null,
      "metadata": {
        "colab": {
          "base_uri": "https://localhost:8080/"
        },
        "id": "Auv3CzRLS2EZ",
        "outputId": "b3ae2db2-8063-41a6-8a6b-4a1f2cf8abcc"
      },
      "outputs": [
        {
          "name": "stdout",
          "output_type": "stream",
          "text": [
            "Masukkan tahun: 2094\n",
            "Bukan Tahun Kabisat\n"
          ]
        }
      ],
      "source": [
        "# LATIHAN 2\n",
        "tahun = int(input(\"Masukkan tahun: \"))\n",
        "\n",
        "if tahun % 400 == 0:\n",
        "    print(\"Tahun Kabisat\")\n",
        "elif tahun % 100 == 0:\n",
        "    print(\"Bukan Tahun Kabisat\")\n",
        "elif tahun % 4 == 0:\n",
        "    print(\"Tahun Kabisat\")\n",
        "else:\n",
        "    print(\"Bukan Tahun Kabisat\")"
      ]
    },
    {
      "cell_type": "code",
      "execution_count": null,
      "metadata": {
        "colab": {
          "base_uri": "https://localhost:8080/"
        },
        "id": "y_-z0x2KTScu",
        "outputId": "b282a917-ceee-4124-dde2-c345d2936dba"
      },
      "outputs": [
        {
          "name": "stdout",
          "output_type": "stream",
          "text": [
            "Pilih soal (1/2/3): 1\n",
            "Soal: 45/9 = ?\n",
            "Jawaban: 5.0\n"
          ]
        }
      ],
      "source": [
        "# LATIHAN 3\n",
        "RE = 19\n",
        "ZA = 9\n",
        "RP = 45\n",
        "PE = 23\n",
        "pilihan = int(input(\"Pilih soal (1/2/3): \"))\n",
        "\n",
        "if pilihan == 1:\n",
        "    print(f\"Soal: {RP}/{ZA} = ?\")\n",
        "    print(\"Jawaban:\", RP / ZA)\n",
        "\n",
        "elif pilihan == 2:\n",
        "    print(f\"Soal: {RE}{ZA}{RP}*{PE} = ?\")\n",
        "    print(\"Jawaban:\", RE * ZA * RP * PE)\n",
        "\n",
        "elif pilihan == 3:\n",
        "  print(f\"soal: {PE}+{ZA}*{RE}-{ZA} = ?\")\n",
        "  print(\"jawaban:\", PE+ZA*RE-ZA)\n",
        "\n",
        "else:\n",
        "    print(\"SOAL HANYA 3\")"
      ]
    },
    {
      "cell_type": "code",
      "execution_count": null,
      "metadata": {
        "colab": {
          "base_uri": "https://localhost:8080/"
        },
        "id": "62kgT7qAXo4P",
        "outputId": "1c14f57d-77ed-4702-d3bb-81e0035f7098"
      },
      "outputs": [
        {
          "name": "stdout",
          "output_type": "stream",
          "text": [
            "Masukkan Angka (1-12): 29\n",
            "Input Salah\n"
          ]
        }
      ],
      "source": [
        "# LATIHAN 4\n",
        "\n",
        "daftar_bulan = int(input(\"Masukkan Angka (1-12): \"))\n",
        "\n",
        "if daftar_bulan == 1:\n",
        "    print(\"Januari\")\n",
        "elif daftar_bulan == 2:\n",
        "    print(\"Februari\")\n",
        "elif daftar_bulan == 3:\n",
        "    print(\"Maret\")\n",
        "elif daftar_bulan == 4:\n",
        "    print(\"April\")\n",
        "elif daftar_bulan == 5:\n",
        "    print(\"Mei\")\n",
        "elif daftar_bulan == 6:\n",
        "    print(\"Juni\")\n",
        "elif daftar_bulan == 7:\n",
        "    print(\"Juli\")\n",
        "elif daftar_bulan == 8:\n",
        "    print(\"Agustus\")\n",
        "elif daftar_bulan == 9:\n",
        "    print(\"September\")\n",
        "elif daftar_bulan == 10:\n",
        "    print(\"Oktober\")\n",
        "elif daftar_bulan == 11:\n",
        "    print(\"November\")\n",
        "elif daftar_bulan == 12:\n",
        "    print(\"Desember\")\n",
        "else:\n",
        "    print(\"Input Salah\")"
      ]
    },
    {
      "cell_type": "code",
      "execution_count": null,
      "metadata": {
        "colab": {
          "base_uri": "https://localhost:8080/"
        },
        "id": "uyglIdtwZByd",
        "outputId": "b5ce76ab-ca83-48d3-f956-d9450f651408"
      },
      "outputs": [
        {
          "name": "stdout",
          "output_type": "stream",
          "text": [
            "Masukkan jam (0-23): 44\n",
            "TAK TERSEDIA\n"
          ]
        }
      ],
      "source": [
        "# LATIHAN 5\n",
        "jam = int(input(\"Masukkan jam (0-23): \"))\n",
        "\n",
        "if 0 <= jam <= 11:\n",
        "    print(\"Selamat Pagi\")\n",
        "elif 12 <= jam <= 15:\n",
        "    print(\"Selamat Siang\")\n",
        "elif 16 <= jam <= 18:\n",
        "    print(\"Selamat Sore\")\n",
        "elif 19 <= jam <= 23:\n",
        "    print(\"Selamat Malam\")\n",
        "else:\n",
        "    print(\"TAK TERSEDIA\")"
      ]
    },
    {
      "cell_type": "code",
      "execution_count": 16,
      "metadata": {
        "colab": {
          "base_uri": "https://localhost:8080/"
        },
        "id": "VcW-xDcFe7Vd",
        "collapsed": true,
        "outputId": "fce29cad-562f-4b80-8ca8-e75fbee44309"
      },
      "outputs": [
        {
          "output_type": "stream",
          "name": "stdout",
          "text": [
            "GRAND OPENING GEMINI CAFE\n",
            "DAPATKAN DISKON UNTUK 1 PESANAN ANDA\n",
            "==============================\n",
            "SELAMAT DATANG DI KAFE GEMINI\n",
            "==============================\n",
            "Menu Makanan & Minuman:\n",
            "1. Kopi Hitam     Rp 12.000\n",
            "2. Teh Manis      Rp 8.000\n",
            "3. Roti Bakar     Rp 15.000\n",
            "4. Mie Instan     Rp 10.000\n",
            "==============================\n",
            "Silakan masukkan nomor pilihan Anda (1-4): 3\n",
            "Anda memesan: Roti Bakar dengan harga Rp 15000\n",
            "==============================\n",
            "Total yang harus dibayar: Rp 15000\n",
            "Masukkan jumlah uang Anda: Rp 17000\n",
            "Diskon: 70%\n",
            "Total setelah diskon: Rp 4500.0\n",
            "==============================\n",
            " ---Struk Pembayaran--- \n",
            "Pesanan Anda : Roti Bakar\n",
            "Total Harga  : Rp 15000\n",
            "Diskon       : Rp 10500.0\n",
            "Total Bayar  : Rp 4500.0\n",
            "Uang Anda    : Rp 17000\n",
            "Kembalian    : Rp 12500.0\n",
            "Terima kasih telah berbelanja :)\n"
          ]
        }
      ],
      "source": [
        "#TUGAS\n",
        "\n",
        "print(\"GRAND OPENING GEMINI CAFE\")\n",
        "print(\"DAPATKAN DISKON UNTUK 1 PESANAN ANDA\")\n",
        "\n",
        "print(\"=\"*30)\n",
        "print(\"SELAMAT DATANG DI KAFE GEMINI\")\n",
        "print(\"=\"*30)\n",
        "print(\"Menu Makanan & Minuman:\")\n",
        "print(\"1. Kopi Hitam     Rp 12.000\")\n",
        "print(\"2. Teh Manis      Rp 8.000\")\n",
        "print(\"3. Roti Bakar     Rp 15.000\")\n",
        "print(\"4. Mie Instan     Rp 10.000\")\n",
        "print(\"=\"*30)\n",
        "\n",
        "pilihan_str = input(\"Silakan masukkan nomor pilihan Anda (1-4): \")\n",
        "pilihan = int(pilihan_str)\n",
        "nama_pesanan = \"\"\n",
        "harga = 0\n",
        "\n",
        "if pilihan == 1:\n",
        "    nama_pesanan = \"Kopi Hitam\"\n",
        "    harga = 12000\n",
        "elif pilihan == 2:\n",
        "    nama_pesanan = \"Teh Manis\"\n",
        "    harga = 8000\n",
        "elif pilihan == 3:\n",
        "    nama_pesanan = \"Roti Bakar\"\n",
        "    harga = 15000\n",
        "elif pilihan == 4:\n",
        "    nama_pesanan = \"Mie Instan\"\n",
        "    harga = 10000\n",
        "else:\n",
        "    print(\"Maaf, pilihan menu tidak valid. Silakan jalankan ulang program.\")\n",
        "    exit()\n",
        "\n",
        "print(f\"Anda memesan: {nama_pesanan} dengan harga Rp {harga}\")\n",
        "\n",
        "print(\"=\"*30)\n",
        "uang_dibayar_str = input(f\"Total yang harus dibayar: Rp {harga}\\nMasukkan jumlah uang Anda: Rp \")\n",
        "uang_dibayar = int(uang_dibayar_str)\n",
        "\n",
        "#  Tambahan Diskon\n",
        "if harga >= 9000:\n",
        "    diskon = 0.70\n",
        "elif harga >= 6000:\n",
        "    diskon = 0.50\n",
        "elif harga >= 3000:\n",
        "    diskon = 0.30\n",
        "else:\n",
        "    diskon = 0.0\n",
        "\n",
        "potongan = harga * diskon\n",
        "total_bayar = harga - potongan\n",
        "print(f\"Diskon: {int(diskon*100)}%\")\n",
        "print(f\"Total setelah diskon: Rp {total_bayar}\")\n",
        "\n",
        "#  Pembayaran\n",
        "if uang_dibayar >= total_bayar:\n",
        "    kembalian = uang_dibayar - total_bayar\n",
        "    print(\"=\"*30)\n",
        "    print(\" ---Struk Pembayaran--- \")\n",
        "    print(f\"Pesanan Anda : {nama_pesanan}\")\n",
        "    print(f\"Total Harga  : Rp {harga}\")\n",
        "    print(f\"Diskon       : Rp {potongan}\")\n",
        "    print(f\"Total Bayar  : Rp {total_bayar}\")\n",
        "    print(f\"Uang Anda    : Rp {uang_dibayar}\")\n",
        "    print(f\"Kembalian    : Rp {kembalian}\")\n",
        "    print(\"Terima kasih telah berbelanja :)\")\n",
        "\n",
        "else:\n",
        "    kekurangan = total_bayar - uang_dibayar\n",
        "    print(f\"Maaf, uang Anda kurang sebesar Rp {kekurangan}\")"
      ]
    },
    {
      "cell_type": "code",
      "source": [],
      "metadata": {
        "id": "jwHnLCr_maAm"
      },
      "execution_count": null,
      "outputs": []
    }
  ],
  "metadata": {
    "colab": {
      "provenance": [],
      "authorship_tag": "ABX9TyM16ScdmBTbboS7e4cqqvfv",
      "include_colab_link": true
    },
    "kernelspec": {
      "display_name": "Python 3",
      "name": "python3"
    },
    "language_info": {
      "name": "python"
    }
  },
  "nbformat": 4,
  "nbformat_minor": 0
}