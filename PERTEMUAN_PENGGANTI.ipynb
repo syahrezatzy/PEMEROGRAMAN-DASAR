{
  "nbformat": 4,
  "nbformat_minor": 0,
  "metadata": {
    "colab": {
      "provenance": [],
      "authorship_tag": "ABX9TyMKj/HDYPLUyJCmL4aZWitC",
      "include_colab_link": true
    },
    "kernelspec": {
      "name": "python3",
      "display_name": "Python 3"
    },
    "language_info": {
      "name": "python"
    }
  },
  "cells": [
    {
      "cell_type": "markdown",
      "metadata": {
        "id": "view-in-github",
        "colab_type": "text"
      },
      "source": [
        "<a href=\"https://colab.research.google.com/github/syahrezatzy/PEMEROGRAMAN-DASAR/blob/main/PERTEMUAN_PENGGANTI.ipynb\" target=\"_parent\"><img src=\"https://colab.research.google.com/assets/colab-badge.svg\" alt=\"Open In Colab\"/></a>"
      ]
    },
    {
      "cell_type": "code",
      "execution_count": 67,
      "metadata": {
        "colab": {
          "base_uri": "https://localhost:8080/"
        },
        "id": "IM0S_C8wR2nV",
        "outputId": "5b906568-70c0-44cc-dee7-202cbbaa515b"
      },
      "outputs": [
        {
          "output_type": "stream",
          "name": "stdout",
          "text": [
            "Halo Reza!\n",
            "Sistem siap. Selamat datang kembali di sesi praktikum.\n",
            "BIODATA\n",
            "Nama        : Syahreza Aulia Putra\n",
            "NIM         : 4232401035\n",
            "Program     : RPE\n",
            "Universitas : Politeknik Negeri Batam\n"
          ]
        }
      ],
      "source": [
        "# SOAL 1: Fungsi Inisialisasi Sederhana\n",
        "def sapa_praktikan(nama):\n",
        "    \"Mencetak pesan sambutan dasar.\"\n",
        "    print(f\"Halo {nama}!\")\n",
        "    print(\"Sistem siap. Selamat datang kembali di sesi praktikum.\")\n",
        "\n",
        "# Pemanggilan fungsi sapa_praktikan\n",
        "sapa_praktikan(\"Reza\")\n",
        "\n",
        "def Biodata(nama, nim, prodi, universitas):\n",
        "    \"\"\"Menampilkan biodata praktikan.\"\"\"\n",
        "    print(\"BIODATA\")\n",
        "    print(f\"Nama        : {nama}\")\n",
        "    print(f\"NIM         : {nim}\")\n",
        "    print(f\"Program     : {prodi}\")\n",
        "    print(f\"Universitas : {universitas}\")\n",
        "\n",
        "Biodata(\"Syahreza Aulia Putra\", \"4232401035\", \"RPE\", \"Politeknik Negeri Batam\")\n"
      ]
    },
    {
      "cell_type": "code",
      "source": [
        "# SOAL 2: Menghitung Volume Kubus\n",
        "def hitung_volume_kubus(sisi):\n",
        "    \"Menghitung volume kubus dari panjang sisinya.\"\n",
        "    return sisi ** 3\n",
        "\n",
        "# Pemanggilan\n",
        "panjang_sisi = 5\n",
        "print(f\"Volume kubus dengan sisi {panjang_sisi} adalah: {hitung_volume_kubus(panjang_sisi)}\")\n",
        "\n",
        "\n",
        "def hitung_volume_balok(panjang, lebar, tinggi):\n",
        "    \"Menghitung volume balok dari panjang, lebar, dan tinggi.\"\n",
        "    return panjang * lebar * tinggi\n",
        "\n",
        "p = 2\n",
        "l = 3\n",
        "t = 4\n",
        "print(f\"Volume balok dengan ukuran {p} x {l} x {t} adalah: {hitung_volume_balok(p, l, t)}\")\n"
      ],
      "metadata": {
        "colab": {
          "base_uri": "https://localhost:8080/"
        },
        "id": "k3C5mpPMZTCB",
        "outputId": "05782c24-0bc1-47d9-990e-c697959b2976"
      },
      "execution_count": 78,
      "outputs": [
        {
          "output_type": "stream",
          "name": "stdout",
          "text": [
            "Volume kubus dengan sisi 5 adalah: 125\n",
            "Volume balok dengan ukuran 2 x 3 x 4 adalah: 24\n"
          ]
        }
      ]
    },
    {
      "cell_type": "code",
      "source": [
        "# SOAL 3: Menghitung Rata-rata dari List Nilai dengan Pengecekan\n",
        "def hitung_rata_rata(data_nilai):\n",
        "    total = 0\n",
        "    jumlah_valid = 0\n",
        "\n",
        "    # Perulangan untuk menjumlahkan nilai\n",
        "    for nilai in data_nilai:\n",
        "        # Pengecekan nilai valid (0 - 100)\n",
        "        if 0 <= nilai <= 100:\n",
        "            total += nilai\n",
        "            jumlah_valid += 1\n",
        "        else:\n",
        "            print(f\" Nilai {nilai} tidak valid (tidak terdata).\")\n",
        "\n",
        "     # Pembagian untuk rata-rata\n",
        "\n",
        "    if jumlah_valid > 0:\n",
        "     return total / jumlah_valid\n",
        "    return\n",
        "\n",
        "\n",
        "nilai_praktikan = [85, 101, -1, 78, 90]\n",
        "print(f\"Nilai rata-rata kelas adalah: {hitung_rata_rata(nilai_praktikan):.2f}\")\n"
      ],
      "metadata": {
        "colab": {
          "base_uri": "https://localhost:8080/"
        },
        "id": "0wRbwQiXcYm2",
        "outputId": "04133d3b-d769-470c-892b-877939bc6e43"
      },
      "execution_count": 94,
      "outputs": [
        {
          "output_type": "stream",
          "name": "stdout",
          "text": [
            " Nilai 101 tidak valid (tidak terdata).\n",
            " Nilai -1 tidak valid (tidak terdata).\n",
            "Nilai rata-rata kelas adalah: 84.33\n"
          ]
        }
      ]
    },
    {
      "cell_type": "code",
      "source": [
        "# SOAL 4: Sistem Penentuan Predikat Nilai\n",
        "def tentukan_predikat(skor):\n",
        "    \"\"\"Menentukan predikat (A, B, C, D, E) berdasarkan skor dengan validasi tipe data.\"\"\"\n",
        "\n",
        "    if not isinstance(skor, (int, float)):\n",
        "        return \"Error: Input harus berupa angka (int atau float).\"\n",
        "\n",
        "    if skor < 0 or skor > 100:\n",
        "        return \"Error: Nilai harus berada antara 0 hingga 100.\"\n",
        "\n",
        "    # Penentuan predikat\n",
        "    if skor >= 85:\n",
        "        return \"A\"\n",
        "    elif skor >= 70:\n",
        "        return \"B\"\n",
        "    elif skor >= 60:\n",
        "        return \"C\"\n",
        "    elif skor >= 50:\n",
        "        return \"D\"\n",
        "    else:\n",
        "        return \"E\"\n",
        "\n",
        "print(f\"Skor 90 mendapat predikat: {tentukan_predikat(90)}\")\n",
        "print(f\"Skor 72 mendapat predikat: {tentukan_predikat(72)}\")\n",
        "print(f\"Skor 65 mendapat predikat: {tentukan_predikat(65)}\")\n",
        "print(f\"Skor 52 mendapat predikat: {tentukan_predikat(52)}\")\n",
        "print(f\"Skor 30 mendapat predikat: {tentukan_predikat(30)}\")\n",
        "\n"
      ],
      "metadata": {
        "colab": {
          "base_uri": "https://localhost:8080/"
        },
        "id": "JPk4d5svdsk5",
        "outputId": "e22db0f8-efe5-472a-f139-e89fe76770f8"
      },
      "execution_count": 98,
      "outputs": [
        {
          "output_type": "stream",
          "name": "stdout",
          "text": [
            "Skor 90 mendapat predikat: A\n",
            "Skor 72 mendapat predikat: B\n",
            "Skor 65 mendapat predikat: C\n",
            "Skor 52 mendapat predikat: D\n",
            "Skor 30 mendapat predikat: E\n"
          ]
        }
      ]
    },
    {
      "cell_type": "code",
      "source": [
        "# SOAL 5: Menghitung Faktorial dengan Loop While\n",
        "def hitung_faktorial(n):\n",
        "    \"\"\"Menghitung faktorial dari bilangan positif n.\"\"\"\n",
        "\n",
        "\n",
        "    if n < 0:\n",
        "        return \"Error: Faktorial tidak terdefinisi untuk bilangan negatif.\"\n",
        "    elif n == 0:\n",
        "        return 1\n",
        "\n",
        "    hasil = 1\n",
        "\n",
        "    # kode berjalan selama n lebih besar dari 1\n",
        "    while n > 1:\n",
        "        hasil *= n\n",
        "        n -= 1  # Kurangi n\n",
        "\n",
        "    return hasil\n",
        "\n",
        "\n",
        "# Pemanggilan:\n",
        "bilangan_n = 7\n",
        "\n",
        "\n",
        "print(f\"Faktorial dari {bilangan_n} adalah: {hitung_faktorial(bilangan_n)}\")\n"
      ],
      "metadata": {
        "colab": {
          "base_uri": "https://localhost:8080/"
        },
        "id": "ecVhs2Bshmrc",
        "outputId": "8b0fcc35-fb5a-4bc8-e28d-4fa25c515611"
      },
      "execution_count": 104,
      "outputs": [
        {
          "output_type": "stream",
          "name": "stdout",
          "text": [
            "Faktorial dari 7 adalah: 5040\n"
          ]
        }
      ]
    },
    {
      "cell_type": "code",
      "source": [
        "# SOAL 6: Analisis Data Suhu Ekstrem (for dan if/elif)\n",
        "def analisis_suhu(data_suhu):\n",
        "    \"\"\"Menghitung jumlah hari Panas dan Dingin dari data_suhu.\"\"\"\n",
        "    panas_count = 0\n",
        "    dingin_count = 0\n",
        "\n",
        "    for suhu in data_suhu:\n",
        "        if suhu >= 35:\n",
        "            panas_count += 1\n",
        "        elif suhu <= 15:\n",
        "            dingin_count += 1\n",
        "\n",
        "    return panas_count, dingin_count\n",
        "\n",
        "# Pemanggilan:\n",
        "suhu_mingguan = [40, 15, 20, 25, 10, 19, 22,36,]\n",
        "jumlah_panas, jumlah_dingin = analisis_suhu(suhu_mingguan)\n",
        "print(f\"Jumlah hari Panas (>=35°C): {jumlah_panas}\")\n",
        "print(f\"Jumlah hari Dingin (<=15°C): {jumlah_dingin}\")\n"
      ],
      "metadata": {
        "colab": {
          "base_uri": "https://localhost:8080/"
        },
        "id": "ZWDFyP_xkdjG",
        "outputId": "1d27c77e-4d7f-4264-e317-331eac03e503"
      },
      "execution_count": 109,
      "outputs": [
        {
          "output_type": "stream",
          "name": "stdout",
          "text": [
            "Jumlah hari Panas (>=35°C): 2\n",
            "Jumlah hari Dingin (<=15°C): 2\n"
          ]
        }
      ]
    }
  ]
}